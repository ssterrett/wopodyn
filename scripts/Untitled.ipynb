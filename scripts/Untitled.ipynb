{
 "cells": [
  {
   "cell_type": "code",
   "execution_count": 1,
   "id": "2efce629-d7f6-4454-9432-4c575c60a62e",
   "metadata": {},
   "outputs": [],
   "source": [
    "#Imports\n",
    "import numpy as np\n",
    "import os\n",
    "import matplotlib.pyplot as plt\n",
    "import matplotlib.animation as animation\n",
    "from matplotlib.gridspec import GridSpec\n",
    "import matplotlib.backends.backend_pdf\n",
    "matplotlib.rcParams['lines.linewidth'] = 0.5\n",
    "matplotlib.rcParams['lines.markersize'] = 1\n",
    "matplotlib.rcParams['pdf.fonttype'] = 42\n",
    "matplotlib.rcParams['ps.fonttype'] = 42\n",
    "matplotlib.rcParams['font.sans-serif'] = 'Arial'\n",
    "matplotlib.rcParams['font.size'] = 6\n",
    "matplotlib.rcParams['axes.unicode_minus'] = False\n",
    "matplotlib.rcParams['axes.labelsize'] = 6\n",
    "matplotlib.rcParams['axes.labelpad'] = 0\n",
    "matplotlib.rcParams['xtick.labelsize'] = 6\n",
    "matplotlib.rcParams['xtick.major.size'] = 2\n",
    "matplotlib.rcParams['xtick.major.width'] = 0.3\n",
    "matplotlib.rcParams['ytick.labelsize'] = 6\n",
    "matplotlib.rcParams['ytick.major.size'] = 2\n",
    "matplotlib.rcParams['ytick.major.width'] = 0.3\n",
    "import pandas as pd\n",
    "\n",
    "from sklearn.preprocessing import StandardScaler\n",
    "from sklearn.decomposition import PCA\n",
    "\n",
    "from scipy.stats import gaussian_kde\n",
    "from pathlib import Path\n"
   ]
  },
  {
   "cell_type": "code",
   "execution_count": 16,
   "id": "5b4463d7-edfb-49b4-82fd-ed027f08d653",
   "metadata": {},
   "outputs": [
    {
     "name": "stdout",
     "output_type": "stream",
     "text": [
      "C:\\Users\\Scott\\Documents\\python\\wopodyn\\data\\raw\\swimming\\N2_L1\\011222_N2_L1_Swim_0008_W1.txt has missing rows\n",
      "C:\\Users\\Scott\\Documents\\python\\wopodyn\\data\\raw\\swimming\\N2_L1\\011222_N2_L1_Swim_0010_W1.txt has missing rows\n",
      "C:\\Users\\Scott\\Documents\\python\\wopodyn\\data\\raw\\swimming\\N2_L1\\032522_N2_L1_Swim_0014.txt has missing rows\n",
      "C:\\Users\\Scott\\Documents\\python\\wopodyn\\data\\raw\\swimming\\N2_L1\\032522_N2_L1_Swim_0015.txt has missing rows\n",
      "C:\\Users\\Scott\\Documents\\python\\wopodyn\\data\\raw\\swimming\\N2_L1\\062722_N2_L1_Swim0001worm1.txt has missing rows\n",
      "C:\\Users\\Scott\\Documents\\python\\wopodyn\\data\\raw\\swimming\\N2_L1\\062722_N2_L1_Swim0001worm2.txt has missing rows\n",
      "C:\\Users\\Scott\\Documents\\python\\wopodyn\\data\\raw\\swimming\\N2_L1\\062722_N2_L1_Swim0003.txt has missing rows\n",
      "C:\\Users\\Scott\\Documents\\python\\wopodyn\\data\\raw\\swimming\\N2_L1\\062722_N2_L1_Swim0004.txt has missing rows\n",
      "C:\\Users\\Scott\\Documents\\python\\wopodyn\\data\\raw\\swimming\\N2_L1\\062722_N2_L1_Swim0005worm1.txt has missing rows\n",
      "C:\\Users\\Scott\\Documents\\python\\wopodyn\\data\\raw\\swimming\\N2_L1\\062722_N2_L1_Swim0005worm2.txt has missing rows\n",
      "C:\\Users\\Scott\\Documents\\python\\wopodyn\\data\\raw\\swimming\\N2_L1\\062722_N2_L1_Swim0006.txt has missing rows\n",
      "C:\\Users\\Scott\\Documents\\python\\wopodyn\\data\\raw\\swimming\\N2_L1\\062722_N2_L1_Swim0007.txt has missing rows\n",
      "C:\\Users\\Scott\\Documents\\python\\wopodyn\\data\\raw\\swimming\\N2_L1\\063022_N2_L1_Swim_0002.txt has missing rows\n",
      "C:\\Users\\Scott\\Documents\\python\\wopodyn\\data\\raw\\swimming\\N2_L1\\063022_N2_L1_Swim_0003.txt has missing rows\n",
      "C:\\Users\\Scott\\Documents\\python\\wopodyn\\data\\raw\\swimming\\N2_L1\\063022_N2_L1_Swim_0004.txt has missing rows\n",
      "C:\\Users\\Scott\\Documents\\python\\wopodyn\\data\\raw\\swimming\\N2_L1\\063022_N2_L1_Swim_0005.txt has missing rows\n",
      "C:\\Users\\Scott\\Documents\\python\\wopodyn\\data\\raw\\swimming\\N2_L1\\071922_N2_L1_Swim_0002.txt has missing rows\n",
      "C:\\Users\\Scott\\Documents\\python\\wopodyn\\data\\raw\\swimming\\N2_L1\\071922_N2_L1_Swim_0003.txt has missing rows\n",
      "C:\\Users\\Scott\\Documents\\python\\wopodyn\\data\\raw\\swimming\\N2_L1\\071922_N2_L1_Swim_0004.txt has missing rows\n",
      "C:\\Users\\Scott\\Documents\\python\\wopodyn\\data\\raw\\swimming\\N2_L1\\071922_N2_L1_Swim_0005.txt has missing rows\n",
      "C:\\Users\\Scott\\Documents\\python\\wopodyn\\data\\raw\\swimming\\N2_L1\\071922_N2_L1_Swim_0005_2.txt has missing rows\n",
      "C:\\Users\\Scott\\Documents\\python\\wopodyn\\data\\raw\\swimming\\N2_L1\\071922_N2_L1_Swim_0006.txt has missing rows\n",
      "C:\\Users\\Scott\\Documents\\python\\wopodyn\\data\\raw\\swimming\\N2_L1\\071922_N2_L1_Swim_0007.txt has missing rows\n",
      "C:\\Users\\Scott\\Documents\\python\\wopodyn\\data\\raw\\swimming\\N2_L1\\071922_N2_L1_Swim_0008.txt has missing rows\n"
     ]
    },
    {
     "name": "stderr",
     "output_type": "stream",
     "text": [
      "meta NOT subset; don't know how to subset; dropped\n"
     ]
    },
    {
     "data": {
      "image/png": "[encoded data removed]",
      "text/plain": [
       "<Figure size 93.6x93.6 with 1 Axes>"
      ]
     },
     "metadata": {
      "needs_background": "light"
     },
     "output_type": "display_data"
    }
   ],
   "source": [
    "# \n",
    "#compile data from all files in directory\n",
    "raw_dir = Path('C:/Users/Scott/Documents/python/wopodyn/data/raw/swimming')\n",
    "suffix = 'N2_L1'\n",
    "path = raw_dir / suffix\n",
    "angles = []\n",
    "filenames = []\n",
    "for count, file in enumerate(path.glob('*.txt')):\n",
    "    try:\n",
    "        # Data Pre-processing/cleaning step to remove header of multiple lines (at times)\n",
    "        with open(file) as curr_file:\n",
    "            lines = curr_file.readlines()\n",
    "            lines = [line.rstrip() for line in lines]\n",
    "        ind = 0\n",
    "        for i in range(len(lines)):\n",
    "            if lines[i][:4] == 'Time':\n",
    "                ind = i\n",
    "                break\n",
    "        # Actually loading the data from .txt\n",
    "        angle = np.loadtxt(file, dtype='float', skiprows=ind+1)\n",
    "        # A check to make sure that the data is 10 dimensional\n",
    "        if len(angle[0]) < 11:\n",
    "            angles.append(angle)\n",
    "            print(f'{file} missing time')\n",
    "        else:\n",
    "            angles.append(angle[:, 1:])  # slice out time column\n",
    "        filenames.append(file)\n",
    "    except UnicodeDecodeError:\n",
    "        print(f'{file} has unknown character')\n",
    "    except ValueError as e:\n",
    "        print(f'{file} has missing rows')\n",
    "# for count, file in enumerate(path.glob('*')):\n",
    "#     filenames.append(file)\n",
    "#     angle = np.loadtxt(file, dtype= 'float', skiprows=1)\n",
    "#     angles.append(angle[:,1:]) #slice out time column\n",
    "# print(f'{count+1} files in directory for {suffix}')\n",
    "# %%\n",
    "#scale and perform pca on data\n",
    "stds = []\n",
    "for angle in angles:\n",
    "  scaler = StandardScaler() #initialize a standarizing object\n",
    "  stds.append(scaler.fit_transform(angle)) #normalize the data\n",
    "stds = np.vstack(stds) #stack to (n_frames, n_segments) for all data\n",
    "\n",
    "pca = PCA(n_components=10) #init pca object\n",
    "pcs = pca.fit_transform(stds) #fit and transform the angles data\n",
    "# %%\n",
    "kde = gaussian_kde(pcs[:,0:2].T)\n",
    "xmin = np.min(pcs[:,0])\n",
    "xmax = np.max(pcs[:,0])\n",
    "ymin = np.min(pcs[:,1])\n",
    "ymax = np.max(pcs[:,1])\n",
    "\n",
    "gmin = np.min([xmin, ymin]) # left bottom min\n",
    "gmax = np.max([xmax, ymax]) # right top min\n",
    "\n",
    "fmin = np.min([abs(gmin), abs(gmax)]) # min for lim\n",
    "\n",
    "X, Y = np.mgrid[gmin:gmax:100j, gmin:gmax:100j]\n",
    "positions = np.vstack([X.ravel(), Y.ravel()])\n",
    "Z = np.reshape(kde(positions).T, X.shape)\n",
    "\n",
    "fig, ax = plt.subplots(figsize=(1.3,1.3))\n",
    "im1 = ax.imshow(np.rot90(Z), cmap='viridis',\n",
    "          extent=[gmin, gmax, gmin, gmax])\n",
    "ax.set(xlim = [-4, 4], \n",
    "        xticks = np.arange(-3, 4),\n",
    "        ylim = [-4, 4], \n",
    "        yticks = np.arange(-3, 4),\n",
    "        xlabel = 'Eigenworm 1', \n",
    "        ylabel = 'Eigenworm 2')\n",
    "# fig.colorbar(im1, ax=ax)\n",
    "figname = Path('C:/Users/Scott/Documents/python/wopodyn/reports/figures/N2l1histo.pdf')\n",
    "fig.savefig(figname, dpi=300, transparent=True, bbox_inches=\"tight\")"
   ]
  },
  {
   "cell_type": "code",
   "execution_count": 3,
   "id": "2a97b1f5-801a-4ed4-8885-54b8a6ab8ae2",
   "metadata": {},
   "outputs": [
    {
     "data": {
      "text/plain": [
       "'C:\\\\Users\\\\Scott\\\\Documents\\\\python\\\\wopodyn\\\\scripts'"
      ]
     },
     "execution_count": 3,
     "metadata": {},
     "output_type": "execute_result"
    }
   ],
   "source": [
    "os.getcwd()"
   ]
  },
  {
   "cell_type": "code",
   "execution_count": null,
   "id": "1c688cb8-a1b8-4cb0-be60-24f89b7c11f3",
   "metadata": {},
   "outputs": [],
   "source": []
  }
 ],
 "metadata": {
  "kernelspec": {
   "display_name": "base",
   "language": "python",
   "name": "base"
  },
  "language_info": {
   "codemirror_mode": {
    "name": "ipython",
    "version": 3
   },
   "file_extension": ".py",
   "mimetype": "text/x-python",
   "name": "python",
   "nbconvert_exporter": "python",
   "pygments_lexer": "ipython3",
   "version": "3.8.8"
  }
 },
 "nbformat": 4,
 "nbformat_minor": 5
}
