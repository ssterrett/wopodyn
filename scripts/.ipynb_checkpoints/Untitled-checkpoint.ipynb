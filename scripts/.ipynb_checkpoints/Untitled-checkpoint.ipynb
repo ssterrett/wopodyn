{
 "cells": [
  {
   "cell_type": "code",
   "execution_count": 1,
   "id": "2efce629-d7f6-4454-9432-4c575c60a62e",
   "metadata": {},
   "outputs": [],
   "source": [
    "#Imports\n",
    "import numpy as np\n",
    "import os\n",
    "import matplotlib.pyplot as plt\n",
    "import matplotlib.animation as animation\n",
    "from matplotlib.gridspec import GridSpec\n",
    "import matplotlib.backends.backend_pdf\n",
    "matplotlib.rcParams['lines.linewidth'] = 0.5\n",
    "matplotlib.rcParams['lines.markersize'] = 1\n",
    "matplotlib.rcParams['pdf.fonttype'] = 42\n",
    "matplotlib.rcParams['ps.fonttype'] = 42\n",
    "matplotlib.rcParams['font.sans-serif'] = 'Arial'\n",
    "matplotlib.rcParams['font.size'] = 6\n",
    "matplotlib.rcParams['axes.unicode_minus'] = False\n",
    "matplotlib.rcParams['axes.labelsize'] = 6\n",
    "matplotlib.rcParams['axes.labelpad'] = 0\n",
    "matplotlib.rcParams['xtick.labelsize'] = 6\n",
    "matplotlib.rcParams['xtick.major.size'] = 2\n",
    "matplotlib.rcParams['xtick.major.width'] = 0.3\n",
    "matplotlib.rcParams['ytick.labelsize'] = 6\n",
    "matplotlib.rcParams['ytick.major.size'] = 2\n",
    "matplotlib.rcParams['ytick.major.width'] = 0.3\n",
    "import pandas as pd\n",
    "\n",
    "from sklearn.preprocessing import StandardScaler\n",
    "from sklearn.decomposition import PCA\n",
    "\n",
    "from scipy.stats import gaussian_kde\n",
    "from pathlib import Path\n"
   ]
  },
  {
   "cell_type": "code",
   "execution_count": 3,
   "id": "5b4463d7-edfb-49b4-82fd-ed027f08d653",
   "metadata": {},
   "outputs": [
    {
     "ename": "NameError",
     "evalue": "name 'count' is not defined",
     "output_type": "error",
     "traceback": [
      "\u001b[1;31m---------------------------------------------------------------------------\u001b[0m",
      "\u001b[1;31mNameError\u001b[0m                                 Traceback (most recent call last)",
      "Input \u001b[1;32mIn [3]\u001b[0m, in \u001b[0;36m<module>\u001b[1;34m\u001b[0m\n\u001b[0;32m     10\u001b[0m     angle \u001b[38;5;241m=\u001b[39m np\u001b[38;5;241m.\u001b[39mloadtxt(file, dtype\u001b[38;5;241m=\u001b[39m \u001b[38;5;124m'\u001b[39m\u001b[38;5;124mfloat\u001b[39m\u001b[38;5;124m'\u001b[39m, skiprows\u001b[38;5;241m=\u001b[39m\u001b[38;5;241m1\u001b[39m)\n\u001b[0;32m     11\u001b[0m     angles\u001b[38;5;241m.\u001b[39mappend(angle[:,\u001b[38;5;241m1\u001b[39m:]) \u001b[38;5;66;03m#slice out time column\u001b[39;00m\n\u001b[1;32m---> 12\u001b[0m \u001b[38;5;28mprint\u001b[39m(\u001b[38;5;124mf\u001b[39m\u001b[38;5;124m'\u001b[39m\u001b[38;5;132;01m{\u001b[39;00mcount\u001b[38;5;241m+\u001b[39m\u001b[38;5;241m1\u001b[39m\u001b[38;5;132;01m}\u001b[39;00m\u001b[38;5;124m files in directory for \u001b[39m\u001b[38;5;132;01m{\u001b[39;00msuffix\u001b[38;5;132;01m}\u001b[39;00m\u001b[38;5;124m'\u001b[39m)\n\u001b[0;32m     13\u001b[0m \u001b[38;5;66;03m# %%\u001b[39;00m\n\u001b[0;32m     14\u001b[0m \u001b[38;5;66;03m#scale and perform pca on data\u001b[39;00m\n\u001b[0;32m     15\u001b[0m stds \u001b[38;5;241m=\u001b[39m []\n",
      "\u001b[1;31mNameError\u001b[0m: name 'count' is not defined"
     ]
    }
   ],
   "source": [
    "# \n",
    "#compile data from all files in directory\n",
    "raw_dir = Path('./data/raw/old')\n",
    "suffix = 'cwn2_Adults'\n",
    "path = raw_dir / suffix\n",
    "angles = []\n",
    "filenames = []\n",
    "for count, file in enumerate(path.glob('*')):\n",
    "    filenames.append(file)\n",
    "    angle = np.loadtxt(file, dtype= 'float', skiprows=1)\n",
    "    angles.append(angle[:,1:]) #slice out time column\n",
    "print(f'{count+1} files in directory for {suffix}')\n",
    "# %%\n",
    "#scale and perform pca on data\n",
    "stds = []\n",
    "for angle in angles:\n",
    "  scaler = StandardScaler() #initialize a standarizing object\n",
    "  stds.append(scaler.fit_transform(angle)) #normalize the data\n",
    "stds = np.vstack(stds) #stack to (n_frames, n_segments) for all data\n",
    "\n",
    "pca = PCA(n_components=10) #init pca object\n",
    "pcs = pca.fit_transform(stds) #fit and transform the angles data\n",
    "# %%\n",
    "kde = gaussian_kde(pcs[:,0:2].T)\n",
    "xmin = np.min(pcs[:,0])\n",
    "xmax = np.max(pcs[:,0])\n",
    "ymin = np.min(pcs[:,1])\n",
    "ymax = np.max(pcs[:,1])\n",
    "\n",
    "gmin = np.min([xmin, ymin]) # left bottom min\n",
    "gmax = np.max([xmax, ymax]) # right top min\n",
    "\n",
    "fmin = np.min([abs(gmin), abs(gmax)]) # min for lim\n",
    "\n",
    "X, Y = np.mgrid[gmin:gmax:100j, gmin:gmax:100j]\n",
    "positions = np.vstack([X.ravel(), Y.ravel()])\n",
    "Z = np.reshape(kde(positions).T, X.shape)\n",
    "\n",
    "fig, ax = plt.subplots(figsize=(1.3,1.3))\n",
    "im1 = ax.imshow(np.rot90(Z), cmap='viridis',\n",
    "          extent=[gmin, gmax, gmin, gmax])\n",
    "ax.set(xlim = [-4, 4], \n",
    "        xticks = np.arange(-3, 4),\n",
    "        ylim = [-4, 4], \n",
    "        yticks = np.arange(-3, 4),\n",
    "        xlabel = 'Eigenworm 1', \n",
    "        ylabel = 'Eigenworm 2')\n",
    "fig.colorbar(im1, ax=ax)\n",
    "# figname = Path('reports/figures/swimhisto.pdf')\n",
    "# fig.savefig(figname, dpi=300, transparent=True, bbox_inches=\"tight\")"
   ]
  },
  {
   "cell_type": "code",
   "execution_count": null,
   "id": "2a97b1f5-801a-4ed4-8885-54b8a6ab8ae2",
   "metadata": {},
   "outputs": [],
   "source": []
  }
 ],
 "metadata": {
  "kernelspec": {
   "display_name": "base",
   "language": "python",
   "name": "base"
  },
  "language_info": {
   "codemirror_mode": {
    "name": "ipython",
    "version": 3
   },
   "file_extension": ".py",
   "mimetype": "text/x-python",
   "name": "python",
   "nbconvert_exporter": "python",
   "pygments_lexer": "ipython3",
   "version": "3.8.8"
  }
 },
 "nbformat": 4,
 "nbformat_minor": 5
}
